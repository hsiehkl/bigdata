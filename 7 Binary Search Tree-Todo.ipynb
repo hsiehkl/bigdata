{
 "cells": [
  {
   "cell_type": "markdown",
   "metadata": {},
   "source": [
    "Animation: https://www.cs.usfca.edu/~galles/visualization/BST.html"
   ]
  },
  {
   "cell_type": "code",
   "execution_count": 1,
   "metadata": {},
   "outputs": [],
   "source": [
    "class Node:\n",
    "    \"\"\"\n",
    "    Tree node with left and right child and data\n",
    "    \"\"\"\n",
    "    def __init__(self, data):\n",
    "        self.data = data\n",
    "        self.left = None\n",
    "        self.right = None"
   ]
  },
  {
   "cell_type": "code",
   "execution_count": 2,
   "metadata": {},
   "outputs": [],
   "source": [
    "class Tree:\n",
    "    def __init__(self):\n",
    "        \"\"\"Create an empty binary search tree\"\"\"\n",
    "        self.root = None\n",
    "    \n",
    "    def insert(self, item):\n",
    "        \"\"\"Add an item in the binary search tree\"\"\"\n",
    "        if self.root == None:\n",
    "            self.root = Node(item)\n",
    "        else:\n",
    "            current =  self.root\n",
    "            while True:\n",
    "                if item > current.data:\n",
    "                    if current.right != None:\n",
    "                        current = current.right\n",
    "                    else:\n",
    "                        current.right = Node((item))\n",
    "                        return\n",
    "                else:\n",
    "                    if current.left != None:\n",
    "                        current = current.left\n",
    "                    else:\n",
    "                        current.left = Node((item))\n",
    "                        return           \n",
    "\n",
    "    def find(self, item):\n",
    "        \"\"\"Returns true if item is in the tree or false otherwise\"\"\"\n",
    "\n",
    "        if self.root == None:\n",
    "            return False\n",
    "        else:\n",
    "            current = self.root\n",
    "            while current != None:\n",
    "                if item == current.data:\n",
    "                    return True\n",
    "                else:\n",
    "                    if item > current.data:\n",
    "                        current = current.right\n",
    "                    else:\n",
    "                        current = current.left\n",
    "            return False"
   ]
  },
  {
   "cell_type": "code",
   "execution_count": 3,
   "metadata": {},
   "outputs": [],
   "source": [
    "tree = Tree()"
   ]
  },
  {
   "cell_type": "code",
   "execution_count": 4,
   "metadata": {},
   "outputs": [],
   "source": [
    "tree.insert(30)\n",
    "tree.insert(5)\n",
    "tree.insert(50)\n",
    "tree.insert(8)\n",
    "tree.insert(3)\n",
    "tree.insert(100)\n",
    "tree.insert(40)"
   ]
  },
  {
   "cell_type": "code",
   "execution_count": 5,
   "metadata": {},
   "outputs": [
    {
     "data": {
      "text/plain": [
       "True"
      ]
     },
     "execution_count": 5,
     "metadata": {},
     "output_type": "execute_result"
    }
   ],
   "source": [
    "tree.find(8)"
   ]
  },
  {
   "cell_type": "code",
   "execution_count": 6,
   "metadata": {},
   "outputs": [
    {
     "data": {
      "text/plain": [
       "False"
      ]
     },
     "execution_count": 6,
     "metadata": {},
     "output_type": "execute_result"
    }
   ],
   "source": [
    "tree.find(9)"
   ]
  },
  {
   "cell_type": "markdown",
   "metadata": {},
   "source": [
    "## Why is the worst case time complexity of the find method only $O(n)$ and not $O(log n)$?\n",
    "* If we insert items in a descending or ascending order, then our tree will be completely skewed. We have to run through each node for fiding the item at the bottom."
   ]
  }
 ],
 "metadata": {
  "kernelspec": {
   "display_name": "Python 3",
   "language": "python",
   "name": "python3"
  },
  "language_info": {
   "codemirror_mode": {
    "name": "ipython",
    "version": 3
   },
   "file_extension": ".py",
   "mimetype": "text/x-python",
   "name": "python",
   "nbconvert_exporter": "python",
   "pygments_lexer": "ipython3",
   "version": "3.6.9"
  },
  "varInspector": {
   "cols": {
    "lenName": 16,
    "lenType": 16,
    "lenVar": 40
   },
   "kernels_config": {
    "python": {
     "delete_cmd_postfix": "",
     "delete_cmd_prefix": "del ",
     "library": "var_list.py",
     "varRefreshCmd": "print(var_dic_list())"
    },
    "r": {
     "delete_cmd_postfix": ") ",
     "delete_cmd_prefix": "rm(",
     "library": "var_list.r",
     "varRefreshCmd": "cat(var_dic_list()) "
    }
   },
   "types_to_exclude": [
    "module",
    "function",
    "builtin_function_or_method",
    "instance",
    "_Feature"
   ],
   "window_display": false
  }
 },
 "nbformat": 4,
 "nbformat_minor": 2
}
