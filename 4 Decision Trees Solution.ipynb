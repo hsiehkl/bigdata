{
 "cells": [
  {
   "cell_type": "code",
   "execution_count": 1,
   "metadata": {
    "collapsed": true
   },
   "outputs": [],
   "source": [
    "# import symbolic capability to Python\n",
    "from sympy import *\n",
    "# print things all pretty\n",
    "from sympy.abc import *\n",
    "from sympy.plotting import plot\n",
    "import matplotlib.pyplot as plt\n",
    "import numpy as np\n",
    "from IPython.display import display\n",
    "init_printing()"
   ]
  },
  {
   "cell_type": "markdown",
   "metadata": {},
   "source": [
    "# Exercise\n",
    "\n",
    "You have a dataset with $m$ binary columns and $n$ rows. A given decision tree has the depth $d$.\n",
    "\n",
    "## Questions:\n",
    "1. How many different decision trees with depth $d=1$ are possible for a dataset with $m$ binary columns and $n$ rows?\n",
    "2. How many different decision trees with depth $d=2$ are possible for a dataset with $m$ binary columns and $n$ rows?\n",
    "3. How many different decision trees with depth $d=3$ are possible for a dataset with $m$ binary columns and $n$ rows?\n",
    "4. How many different decision trees with depth $d=4$ are possible for a dataset with $m$ binary columns and $n$ rows?\n",
    "5. In general, how many different decision trees with depth $d$ are possible for a dataset with $m$ binary columns and $n$ rows?\n",
    "6. How may different decision trees are possible for $m=4$ and $d=4$?\n",
    "7. In general, how many different decision trees of any depth are possible for a dataset with $m$ binary columns and $n$ rows?\n",
    "8. How many decision trees are possible for $m=4$ binary columns?\n",
    "9. There are $10^{80}$ atoms in the universe. What is the value for $m$ so that the number of decision trees is greater than the number of atoms in the universe?\n",
    "10. How many operations (steps) does the naive testing take of all possible decision trees for a dataset with $m$ binary columns and $n$ rows?\n",
    "11. How many operations (steps) does the naive testing take of all possible decision trees for a dataset with $m=3$ binary columns and $n=100$ rows?"
   ]
  },
  {
   "cell_type": "markdown",
   "metadata": {},
   "source": [
    "Variables:\n",
    "* $n$: number of rows of the data\n",
    "* $m$: number of binary columns (attributes) of the data\n",
    "* $d$: depth of the decision tree"
   ]
  },
  {
   "cell_type": "code",
   "execution_count": 2,
   "metadata": {
    "collapsed": true
   },
   "outputs": [],
   "source": [
    "m = symbols(\"m\", positive=True, integer=True)\n",
    "d = symbols(\"d\", positive=True, integer=True)\n",
    "n = symbols(\"n\", positive=True, integer=True)"
   ]
  },
  {
   "cell_type": "markdown",
   "metadata": {},
   "source": [
    "## Answers:\n",
    "1. The number of Decision Trees with depth 1 would be $m$, because each of the $m$ attributes could be the root node.\n",
    "* On the second level, for both branches (True and False) all remaining $(m-1)$ attribute could be used. Therefore all combinations of two attributes out of the set of $(m-1)$ attributes are possible. There are $(m-1)^2$ combiantions. The number of Decision Trees with depth 2 would be therefore $m(m-1)^2$. \n",
    "* On the third level, for all 4 branches all remaining $(m-2)$ attributed could be used. Therefore all combinations of four attributes out of the set of $(m-2)$ attributes are possible. There are $(m-2)^4$ combiantions. The number of Decision Trees with depth 3 would be therefore $m(m-1)^2(m-2)^4$. \n",
    "* On the forth level, for all 8 branches all remaining $(m-3)$ attributed could be used. Therefore all combinations of 8 attributes out of the set of $(m-3)$ attributes are possible. There are $(m-3)^8$ combiantions. The number of Decision Trees with depth 4 would be therefore \n",
    "\n",
    "$m(m-1)^2(m-2)^4(m-3)^8$ \n",
    "\n",
    "or \n",
    "$$m^{2^0}(m-1)^{2^1}(m-2)^{2^2}(m-3)^{2^3}$$\n",
    "* In general,  for a data set with $m$ attributes, how many decision trees with depth $d$ are possible?\n",
    "$$\\prod_{i=1}^{d} (m-i-1)^{2^{i-1}} = \\prod_{i=0}^{d-1} (m-i)^{2^{i}} $$"
   ]
  },
  {
   "cell_type": "code",
   "execution_count": 3,
   "metadata": {},
   "outputs": [
    {
     "data": {
      "image/png": "[encoded data removed]",
      "text/latex": [
       "$$\\prod_{i=0}^{d - 1} \\left(- i + m\\right)^{2^{i}}$$"
      ],
      "text/plain": [
       " d - 1               \n",
       "┬──────┬             \n",
       "│      │         ⎛ i⎞\n",
       "│      │         ⎝2 ⎠\n",
       "│      │ (-i + m)    \n",
       "│      │             \n",
       " i = 0               "
      ]
     },
     "execution_count": 3,
     "metadata": {},
     "output_type": "execute_result"
    }
   ],
   "source": [
    "ntrees = Product((m-i)**(2)**i, (i, 0, d-1))\n",
    "ntrees"
   ]
  },
  {
   "cell_type": "markdown",
   "metadata": {},
   "source": [
    "### 6. How may decision trees are possible for $m=4$ and $d=4$?"
   ]
  },
  {
   "cell_type": "code",
   "execution_count": 4,
   "metadata": {},
   "outputs": [
    {
     "data": {
      "image/png": "[encoded data removed]",
      "text/latex": [
       "$$576.0$$"
      ],
      "text/plain": [
       "576.000000000000"
      ]
     },
     "execution_count": 4,
     "metadata": {},
     "output_type": "execute_result"
    }
   ],
   "source": [
    "ntrees.evalf(subs={m:4, d: 4})"
   ]
  },
  {
   "cell_type": "markdown",
   "metadata": {},
   "source": [
    "### 7. In general, how many different decision trees of any depth are possible for a dataset with $m$ binary columns and $n$ rows?\n",
    "\n",
    "$$\\sum_{d=1}^{m}\\prod_{i=0}^{d-1} (m-i)^{2^{i}} $$"
   ]
  },
  {
   "cell_type": "code",
   "execution_count": 5,
   "metadata": {},
   "outputs": [
    {
     "data": {
      "image/png": "[encoded data removed]",
      "text/latex": [
       "$$\\sum_{d=1}^{m} \\prod_{i=0}^{d - 1} \\left(- i + m\\right)^{2^{i}}$$"
      ],
      "text/plain": [
       "  m                         \n",
       "______                      \n",
       "╲                           \n",
       " ╲      d - 1               \n",
       "  ╲    ┬──────┬             \n",
       "   ╲   │      │         ⎛ i⎞\n",
       "    ╲  │      │         ⎝2 ⎠\n",
       "    ╱  │      │ (-i + m)    \n",
       "   ╱   │      │             \n",
       "  ╱     i = 0               \n",
       " ╱                          \n",
       "╱                           \n",
       "‾‾‾‾‾‾                      \n",
       "d = 1                       "
      ]
     },
     "execution_count": 5,
     "metadata": {},
     "output_type": "execute_result"
    }
   ],
   "source": [
    "alltrees = summation(ntrees, (d, 1, m))\n",
    "alltrees"
   ]
  },
  {
   "cell_type": "markdown",
   "metadata": {},
   "source": [
    "### 8. How many decision trees are possible for $m=4$ binary columns?"
   ]
  },
  {
   "cell_type": "code",
   "execution_count": 6,
   "metadata": {},
   "outputs": [
    {
     "data": {
      "image/png": "[encoded data removed]",
      "text/latex": [
       "$$1192.0$$"
      ],
      "text/plain": [
       "1192.00000000000"
      ]
     },
     "execution_count": 6,
     "metadata": {},
     "output_type": "execute_result"
    }
   ],
   "source": [
    "alltrees.evalf(subs={m:4})"
   ]
  },
  {
   "cell_type": "markdown",
   "metadata": {},
   "source": [
    "### 9. There are $10^{80}$ atoms in the universe. What is the value for $m$ so that the number of decision trees is greater than the number of atoms in the universe?"
   ]
  },
  {
   "cell_type": "markdown",
   "metadata": {},
   "source": [
    "Number of atoms in the universe: $10^{80}$"
   ]
  },
  {
   "cell_type": "code",
   "execution_count": 7,
   "metadata": {},
   "outputs": [
    {
     "data": {
      "image/png": "[encoded data removed]",
      "text/latex": [
       "$$1.5278973622449 \\cdot 10^{112}$$"
      ],
      "text/plain": [
       "1.52789736224490e+112"
      ]
     },
     "execution_count": 7,
     "metadata": {},
     "output_type": "execute_result"
    }
   ],
   "source": [
    "alltrees.evalf(subs={m:9})"
   ]
  },
  {
   "cell_type": "markdown",
   "metadata": {},
   "source": [
    "### 10. How many operations (steps) does the naive testing take of all possible decision trees for a dataset with $m$ binary columns and $n$ rows?"
   ]
  },
  {
   "cell_type": "code",
   "execution_count": 8,
   "metadata": {},
   "outputs": [
    {
     "data": {
      "image/png": "[encoded data removed]",
      "text/latex": [
       "$$\\sum_{d=1}^{m} \\prod_{i=0}^{d - 1} d n \\left(- i + m\\right)^{2^{i}}$$"
      ],
      "text/plain": [
       "  m                             \n",
       "______                          \n",
       "╲                               \n",
       " ╲      d - 1                   \n",
       "  ╲    ┬──────┬                 \n",
       "   ╲   │      │             ⎛ i⎞\n",
       "    ╲  │      │             ⎝2 ⎠\n",
       "    ╱  │      │ d⋅n⋅(-i + m)    \n",
       "   ╱   │      │                 \n",
       "  ╱     i = 0                   \n",
       " ╱                              \n",
       "╱                               \n",
       "‾‾‾‾‾‾                          \n",
       "d = 1                           "
      ]
     },
     "execution_count": 8,
     "metadata": {},
     "output_type": "execute_result"
    }
   ],
   "source": [
    "operations = summation(Product((m-i)**(2)**i * d * n, (i, 0, d-1)), (d, 1, m))\n",
    "operations"
   ]
  },
  {
   "cell_type": "markdown",
   "metadata": {},
   "source": [
    "### 11. How many operations (steps) does the naive testing take of all possible decision trees for a dataset with $m=3$ binary columns and $n=100$ rows?"
   ]
  },
  {
   "cell_type": "code",
   "execution_count": 9,
   "metadata": {},
   "outputs": [
    {
     "data": {
      "image/png": "[encoded data removed]",
      "text/latex": [
       "$$324480300.0$$"
      ],
      "text/plain": [
       "324480300.000000"
      ]
     },
     "execution_count": 9,
     "metadata": {},
     "output_type": "execute_result"
    }
   ],
   "source": [
    "operations.evalf(subs={m:3, n:100})"
   ]
  },
  {
   "cell_type": "code",
   "execution_count": null,
   "metadata": {
    "collapsed": true
   },
   "outputs": [],
   "source": []
  }
 ],
 "metadata": {
  "kernelspec": {
   "display_name": "Python 3",
   "language": "python",
   "name": "python3"
  },
  "language_info": {
   "codemirror_mode": {
    "name": "ipython",
    "version": 3
   },
   "file_extension": ".py",
   "mimetype": "text/x-python",
   "name": "python",
   "nbconvert_exporter": "python",
   "pygments_lexer": "ipython3",
   "version": "3.6.1"
  },
  "varInspector": {
   "cols": {
    "lenName": 16,
    "lenType": 16,
    "lenVar": 40
   },
   "kernels_config": {
    "python": {
     "delete_cmd_postfix": "",
     "delete_cmd_prefix": "del ",
     "library": "var_list.py",
     "varRefreshCmd": "print(var_dic_list())"
    },
    "r": {
     "delete_cmd_postfix": ") ",
     "delete_cmd_prefix": "rm(",
     "library": "var_list.r",
     "varRefreshCmd": "cat(var_dic_list()) "
    }
   },
   "types_to_exclude": [
    "module",
    "function",
    "builtin_function_or_method",
    "instance",
    "_Feature"
   ],
   "window_display": false
  }
 },
 "nbformat": 4,
 "nbformat_minor": 2
}
